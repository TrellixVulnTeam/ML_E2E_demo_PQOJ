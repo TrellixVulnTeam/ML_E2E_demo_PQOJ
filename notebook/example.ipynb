{
 "cells": [
  {
   "cell_type": "code",
   "execution_count": 2,
   "metadata": {},
   "outputs": [],
   "source": [
    "from collections import namedtuple"
   ]
  },
  {
   "cell_type": "code",
   "execution_count": 4,
   "metadata": {},
   "outputs": [],
   "source": [
    "# DataIngestionConfig holds a tuple for the configuration required for data ingestion.\n",
    "\n",
    "DataIngestionConfig = namedtuple(\"DataIngestionConfig\",[\"dataset_download_url\",\"tgz_download_dir\",\"raw_data_dir\",\"ingested_train_dir\",\"ingested_test_dir\"])\n",
    "\n",
    "# dataset_download_url --> url for downloading the data\n",
    "# tgz_download_dir --> location for downloaded zip file\n",
    "# raw_data_dir --> location for extracted data\n",
    "# ingested_train_dir --> Train dataset path\n",
    "# ingested_test_dir --> Test dataset path\n",
    "# Namedtouple is used because we do not want to change the config values once set (hence not using dictonary)\n",
    "\n",
    "#copy this line to housing/entity/config_entity.py"
   ]
  },
  {
   "cell_type": "code",
   "execution_count": 5,
   "metadata": {},
   "outputs": [],
   "source": [
    "# load the info\n",
    "data_ingestion_config = DataIngestionConfig(dataset_download_url=\"testing\",tgz_download_dir=\"testing\",raw_data_dir=\"Testig\",ingested_train_dir=\"tester\",ingested_test_dir=\"testing\" )\n",
    "#Copy the above linet to housing/entity/config_entity.py"
   ]
  },
  {
   "cell_type": "code",
   "execution_count": 6,
   "metadata": {},
   "outputs": [
    {
     "data": {
      "text/plain": [
       "DataIngestionConfig(dataset_download_url='testing', tgz_download_dir='testing', raw_data_dir='Testig', ingested_train_dir='tester', ingested_test_dir='testing')"
      ]
     },
     "execution_count": 6,
     "metadata": {},
     "output_type": "execute_result"
    }
   ],
   "source": [
    "data_ingestion_config"
   ]
  },
  {
   "cell_type": "code",
   "execution_count": null,
   "metadata": {},
   "outputs": [],
   "source": []
  }
 ],
 "metadata": {
  "kernelspec": {
   "display_name": "Python 3.10.4 (conda)",
   "language": "python",
   "name": "python3"
  },
  "language_info": {
   "codemirror_mode": {
    "name": "ipython",
    "version": 3
   },
   "file_extension": ".py",
   "mimetype": "text/x-python",
   "name": "python",
   "nbconvert_exporter": "python",
   "pygments_lexer": "ipython3",
   "version": "3.10.4"
  },
  "orig_nbformat": 4,
  "vscode": {
   "interpreter": {
    "hash": "72603e1234203ac6716864861a4f4ee6a1451dbaff8521bfadc7ec6dadf64b2a"
   }
  }
 },
 "nbformat": 4,
 "nbformat_minor": 2
}
